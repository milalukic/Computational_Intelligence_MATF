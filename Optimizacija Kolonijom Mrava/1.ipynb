{
 "cells": [
  {
   "cell_type": "code",
   "execution_count": 3,
   "id": "da72bb00",
   "metadata": {},
   "outputs": [],
   "source": [
    "# Resavamo Travelling Salesman Problem"
   ]
  },
  {
   "cell_type": "code",
   "execution_count": 9,
   "id": "7f2fea48",
   "metadata": {},
   "outputs": [
    {
     "name": "stdout",
     "output_type": "stream",
     "text": [
      "Collecting networkx\n",
      "  Downloading networkx-3.3-py3-none-any.whl (1.7 MB)\n",
      "                                              0.0/1.7 MB ? eta -:--:--\n",
      "                                              0.0/1.7 MB ? eta -:--:--\n",
      "                                              0.0/1.7 MB 1.3 MB/s eta 0:00:02\n",
      "     -                                        0.1/1.7 MB 656.4 kB/s eta 0:00:03\n",
      "     --                                       0.1/1.7 MB 901.1 kB/s eta 0:00:02\n",
      "     -----                                    0.2/1.7 MB 1.4 MB/s eta 0:00:02\n",
      "     ----------                               0.4/1.7 MB 2.0 MB/s eta 0:00:01\n",
      "     ------------------                       0.8/1.7 MB 2.9 MB/s eta 0:00:01\n",
      "     --------------------------------         1.4/1.7 MB 4.4 MB/s eta 0:00:01\n",
      "     ---------------------------------------  1.7/1.7 MB 5.1 MB/s eta 0:00:01\n",
      "     ---------------------------------------- 1.7/1.7 MB 4.2 MB/s eta 0:00:00\n",
      "Installing collected packages: networkx\n",
      "Successfully installed networkx-3.3\n"
     ]
    },
    {
     "name": "stderr",
     "output_type": "stream",
     "text": [
      "\n",
      "[notice] A new release of pip is available: 23.1.2 -> 24.0\n",
      "[notice] To update, run: python.exe -m pip install --upgrade pip\n"
     ]
    }
   ],
   "source": [
    "!pip install networkx"
   ]
  },
  {
   "cell_type": "code",
   "execution_count": 18,
   "id": "6b1fdfb0",
   "metadata": {},
   "outputs": [],
   "source": [
    "import math\n",
    "import networkx as nx\n",
    "import random\n",
    "from copy import deepcopy\n",
    "from matplotlib import pyplot as plt"
   ]
  },
  {
   "cell_type": "code",
   "execution_count": 4,
   "id": "3113620e",
   "metadata": {},
   "outputs": [],
   "source": [
    "def euclid_distance(u_x: float,\n",
    "                    u_y: float,\n",
    "                    v_x: float,\n",
    "                    v_y: float) -> float:\n",
    "    return math.sqrt((u_x-v_x)**2 + (u_y*v_y)**2)"
   ]
  },
  {
   "cell_type": "code",
   "execution_count": 11,
   "id": "67effcde",
   "metadata": {},
   "outputs": [],
   "source": [
    "# svaki cvor je grad, svaka ivica je razdaljina (weight)\n",
    "# pheromones - ?\n",
    "\n",
    "def read_instance(file_path: str) -> nx.Graph:\n",
    "    with open(file_path, 'r') as f:\n",
    "        g = nx.Graph()\n",
    "        for line in f:\n",
    "            if line[0].isdigit():\n",
    "                node_id, x, y = [float(a) for a in line.split()]\n",
    "                g.add_node(int(node_id) - 1, x=x, y=y)\n",
    "                \n",
    "            for u in range(len(g.nodes)):\n",
    "                for v in range(u+1, len(g.nodes)):\n",
    "                    weight = euclid_distance(g.nodes[u]['x'],\n",
    "                                             g.nodes[u]['y'],\n",
    "                                             g.nodes[v]['x'],\n",
    "                                             g.nodes[v]['y'])\n",
    "                    g.add_edge(u, v,\n",
    "                              weight=weight,\n",
    "                              pheromones=0.1)\n",
    "                    \n",
    "        return g"
   ]
  },
  {
   "cell_type": "code",
   "execution_count": 16,
   "id": "cc7cb8fc",
   "metadata": {},
   "outputs": [],
   "source": [
    "def traverse(\n",
    "    g: nx.Graph,\n",
    "    start_node: int,\n",
    "    alpha: float,\n",
    "    beta: float\n",
    "):\n",
    "    cycle = [start_node]\n",
    "    cycle_weight = 0\n",
    "\n",
    "    visited = {start_node}\n",
    "    u = start_node\n",
    "    \n",
    "    while len(visited) != len(g.nodes):\n",
    "        # uzimamo komsije koje nisu posecene\n",
    "        neighbors = [v for v in g[u] if v not in visited]\n",
    "        # vrednost svakog komsije (pheromones^alpha / razdaljina^beta)\n",
    "        values = [g[u][v]['pheromones']**alpha / g[u][v]['weight']**beta for v in neighbors]\n",
    "        \n",
    "        # biramo 1 komsiju na osnovu value-a (to je verovatnoca)\n",
    "        chosen_neighbor = random.choices(neighbors, weights=values, k=1)[0]\n",
    "        \n",
    "        # dodajemo u ciklus, posecene\n",
    "        cycle.append(chosen_neighbor)\n",
    "        visited.add(chosen_neighbor)\n",
    "        # azuriram tezinu kruga i prelazim na sledeci cvor\n",
    "        cycle_weight += g[u][chosen_neighbor]['weight']\n",
    "        u = chosen_neighbor\n",
    "\n",
    "    # razdaljina izmedju prvog i poslednjeg\n",
    "    cycle_weight += g[start_node][cycle[-1]]['weight']\n",
    "    return cycle, cycle_weight"
   ]
  },
  {
   "cell_type": "code",
   "execution_count": 20,
   "id": "78c43944",
   "metadata": {},
   "outputs": [],
   "source": [
    "def aco(\n",
    "    g: nx.Graph,\n",
    "    num_ants: int,\n",
    "    rho: float,\n",
    "    num_iters: int,\n",
    "    theta: float,\n",
    "    alpha: float,\n",
    "    beta: float\n",
    "):\n",
    "    \n",
    "    best_cycle_lens = []\n",
    "    final_cycle = None\n",
    "    \n",
    "    # napravimo cikluse (to su nam mravi)\n",
    "    for i in range(num_iters):\n",
    "        cycles = [traverse(g, start_node=0, alpha=alpha, beta=beta) for _ in range(num_ants)]\n",
    "    \n",
    "        # rho - evaporation rate, koliko feromona ispari u svakoj iteraciji\n",
    "        for u in range(len(g.nodes)):\n",
    "            for v in range(u+1, len(g.nodes)):\n",
    "                g[u][v]['pheromones'] *= rho\n",
    "        \n",
    "        \n",
    "        for cycle, cycle_weight in cycles:\n",
    "            # theta - pheromone update\n",
    "            delta = theta/cycle_weight\n",
    "            # updateujemo feromone, zip(svi sem poslednjeg, svi sem prvog)\n",
    "            for u, v in zip(cycle[:-1], cycle[1:]):\n",
    "                g[u][v]['pheromones'] += delta\n",
    "            \n",
    "            # prvi i poslednji update feromona\n",
    "            g[cycle[0]][cycle[-1]]['pheromones'] += delta\n",
    "        \n",
    "        # biramo najbolji ciklus od ponudjenih: cycles -> (0 cycle, 1 cycle_weight)\n",
    "        best_cycle = min(cycles, key=lambda c: c[1])\n",
    "        best_cycle_lens.append(best_cycle[1])\n",
    "        \n",
    "        if final_cycle is None or best_cycle[1] < final_cycle[1]:\n",
    "            final_cycle = deepcopy(best_cycle)\n",
    "    \n",
    "    plt.plot(range(num_iters), best_cycle_lens)\n",
    "    print(final_cycle[0])\n",
    "    print(final_cycle[1])"
   ]
  },
  {
   "cell_type": "code",
   "execution_count": 21,
   "id": "db74a28b",
   "metadata": {},
   "outputs": [
    {
     "ename": "FileNotFoundError",
     "evalue": "[Errno 2] No such file or directory: 'dj38.tsp'",
     "output_type": "error",
     "traceback": [
      "\u001b[1;31m---------------------------------------------------------------------------\u001b[0m",
      "\u001b[1;31mFileNotFoundError\u001b[0m                         Traceback (most recent call last)",
      "Cell \u001b[1;32mIn[21], line 1\u001b[0m\n\u001b[1;32m----> 1\u001b[0m g \u001b[38;5;241m=\u001b[39m \u001b[43mread_instance\u001b[49m\u001b[43m(\u001b[49m\u001b[43mfile_path\u001b[49m\u001b[38;5;241;43m=\u001b[39;49m\u001b[38;5;124;43m'\u001b[39;49m\u001b[38;5;124;43mdj38.tsp\u001b[39;49m\u001b[38;5;124;43m'\u001b[39;49m\u001b[43m)\u001b[49m\n\u001b[0;32m      2\u001b[0m aco(g\u001b[38;5;241m=\u001b[39mg, num_ants\u001b[38;5;241m=\u001b[39m\u001b[38;5;241m10\u001b[39m, rho\u001b[38;5;241m=\u001b[39m\u001b[38;5;241m0.9\u001b[39m, num_iters\u001b[38;5;241m=\u001b[39m\u001b[38;5;241m100\u001b[39m, alpha\u001b[38;5;241m=\u001b[39m\u001b[38;5;241m0.9\u001b[39m, beta\u001b[38;5;241m=\u001b[39m\u001b[38;5;241m1.5\u001b[39m, theta\u001b[38;5;241m=\u001b[39m\u001b[38;5;241m100.0\u001b[39m)\n",
      "Cell \u001b[1;32mIn[11], line 2\u001b[0m, in \u001b[0;36mread_instance\u001b[1;34m(file_path)\u001b[0m\n\u001b[0;32m      1\u001b[0m \u001b[38;5;28;01mdef\u001b[39;00m \u001b[38;5;21mread_instance\u001b[39m(file_path: \u001b[38;5;28mstr\u001b[39m) \u001b[38;5;241m-\u001b[39m\u001b[38;5;241m>\u001b[39m nx\u001b[38;5;241m.\u001b[39mGraph:\n\u001b[1;32m----> 2\u001b[0m     \u001b[38;5;28;01mwith\u001b[39;00m \u001b[38;5;28;43mopen\u001b[39;49m\u001b[43m(\u001b[49m\u001b[43mfile_path\u001b[49m\u001b[43m,\u001b[49m\u001b[43m \u001b[49m\u001b[38;5;124;43m'\u001b[39;49m\u001b[38;5;124;43mr\u001b[39;49m\u001b[38;5;124;43m'\u001b[39;49m\u001b[43m)\u001b[49m \u001b[38;5;28;01mas\u001b[39;00m f:\n\u001b[0;32m      3\u001b[0m         g \u001b[38;5;241m=\u001b[39m nx\u001b[38;5;241m.\u001b[39mGraph()\n\u001b[0;32m      4\u001b[0m         \u001b[38;5;28;01mfor\u001b[39;00m line \u001b[38;5;129;01min\u001b[39;00m f:\n",
      "File \u001b[1;32m~\\AppData\\Local\\Programs\\Python\\Python310\\lib\\site-packages\\IPython\\core\\interactiveshell.py:284\u001b[0m, in \u001b[0;36m_modified_open\u001b[1;34m(file, *args, **kwargs)\u001b[0m\n\u001b[0;32m    277\u001b[0m \u001b[38;5;28;01mif\u001b[39;00m file \u001b[38;5;129;01min\u001b[39;00m {\u001b[38;5;241m0\u001b[39m, \u001b[38;5;241m1\u001b[39m, \u001b[38;5;241m2\u001b[39m}:\n\u001b[0;32m    278\u001b[0m     \u001b[38;5;28;01mraise\u001b[39;00m \u001b[38;5;167;01mValueError\u001b[39;00m(\n\u001b[0;32m    279\u001b[0m         \u001b[38;5;124mf\u001b[39m\u001b[38;5;124m\"\u001b[39m\u001b[38;5;124mIPython won\u001b[39m\u001b[38;5;124m'\u001b[39m\u001b[38;5;124mt let you open fd=\u001b[39m\u001b[38;5;132;01m{\u001b[39;00mfile\u001b[38;5;132;01m}\u001b[39;00m\u001b[38;5;124m by default \u001b[39m\u001b[38;5;124m\"\u001b[39m\n\u001b[0;32m    280\u001b[0m         \u001b[38;5;124m\"\u001b[39m\u001b[38;5;124mas it is likely to crash IPython. If you know what you are doing, \u001b[39m\u001b[38;5;124m\"\u001b[39m\n\u001b[0;32m    281\u001b[0m         \u001b[38;5;124m\"\u001b[39m\u001b[38;5;124myou can use builtins\u001b[39m\u001b[38;5;124m'\u001b[39m\u001b[38;5;124m open.\u001b[39m\u001b[38;5;124m\"\u001b[39m\n\u001b[0;32m    282\u001b[0m     )\n\u001b[1;32m--> 284\u001b[0m \u001b[38;5;28;01mreturn\u001b[39;00m io_open(file, \u001b[38;5;241m*\u001b[39margs, \u001b[38;5;241m*\u001b[39m\u001b[38;5;241m*\u001b[39mkwargs)\n",
      "\u001b[1;31mFileNotFoundError\u001b[0m: [Errno 2] No such file or directory: 'dj38.tsp'"
     ]
    }
   ],
   "source": [
    "g = read_instance(file_path='dj38.tsp')\n",
    "aco(g=g, num_ants=10, rho=0.9, num_iters=100, alpha=0.9, beta=1.5, theta=100.0)"
   ]
  }
 ],
 "metadata": {
  "kernelspec": {
   "display_name": "Python 3 (ipykernel)",
   "language": "python",
   "name": "python3"
  },
  "language_info": {
   "codemirror_mode": {
    "name": "ipython",
    "version": 3
   },
   "file_extension": ".py",
   "mimetype": "text/x-python",
   "name": "python",
   "nbconvert_exporter": "python",
   "pygments_lexer": "ipython3",
   "version": "3.10.1"
  }
 },
 "nbformat": 4,
 "nbformat_minor": 5
}
