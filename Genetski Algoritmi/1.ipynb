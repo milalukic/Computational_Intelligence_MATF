{
 "cells": [
  {
   "cell_type": "code",
   "execution_count": 1,
   "id": "a732ca02",
   "metadata": {},
   "outputs": [],
   "source": [
    "# jedinka: neko resenje koje kodiram kao niz 0 i 1 - 110010101011\n",
    "\n",
    "# roditelj1 - 110010101011\n",
    "# roditelj2 - 001011011100\n",
    "\n",
    "# 1. nacin da pravimo decu - jedan deo r1 i drugi deo r2 i obrnuto samo spojimo\n",
    "# dete1 - 110010101100\n",
    "# dete2 - 001011011011\n",
    "    \n",
    "# population = [jedinka1, jedinka2, ...]\n",
    "# while not stop_condition():\n",
    "#     izaberi jedinke za reprodukciju\n",
    "#     ukrstamo jedinke\n",
    "#     mutacije\n",
    "#     dobili smo novu generaciju"
   ]
  },
  {
   "cell_type": "code",
   "execution_count": 2,
   "id": "a463fcba",
   "metadata": {},
   "outputs": [],
   "source": [
    "import random"
   ]
  },
  {
   "cell_type": "code",
   "execution_count": 3,
   "id": "942f959b",
   "metadata": {},
   "outputs": [],
   "source": [
    "# UFLP\n",
    "class Individual:\n",
    "    def __init__(self, cost, fixedCost):\n",
    "        numResources = len(fixedCost)\n",
    "        self.code = [random.random() < 0.25 for _ in range(numResources)]\n",
    "        self.correctNonFeasible()\n",
    "        \n",
    "        self.fitness = self.calcFitness(cost, fixedCost)\n",
    "        \n",
    "    def __lt__(self, other):\n",
    "        return self.fitness < other.fitness\n",
    "        \n",
    "    def isFeasible(self):\n",
    "        for c in self.code:\n",
    "            if c:\n",
    "                return True\n",
    "        return False\n",
    "    \n",
    "    def invert(self):\n",
    "        randomResource = random.randrange(len(self.code))\n",
    "        self.code[randomResource] = not self.code[randomResource]\n",
    "        \n",
    "    def correctNonFeasible(self):\n",
    "        for c in self.code:\n",
    "            if c:\n",
    "                return\n",
    "        randomResource = random.randrange(len(self.code))\n",
    "        self.code[randomResource] = True\n",
    "                \n",
    "        \n",
    "    def calcFitness(self, cost, fixedCost):\n",
    "        numUsers = len(cost)\n",
    "        numResources = len(fixedCost)\n",
    "        usedResources = [False for _ in range(numResources)]\n",
    "            \n",
    "        totalCost = 0\n",
    "        \n",
    "        for i in range(numUsers):\n",
    "            minCost = float('inf')\n",
    "            resourceUsed = -1\n",
    "            for j in range(numResources):\n",
    "                if cost[i][j] < minCost and self.code[i]:\n",
    "                    minCost = cost[i][j]\n",
    "                    resourceUsed = j\n",
    "            totalCost += minCost\n",
    "            usedResources[resourceUsed] = True\n",
    "                \n",
    "        self.code = usedResources\n",
    "        for j, resource in enumerate(self.code):\n",
    "            if resource:\n",
    "                totalCost += fixedCost[j]\n",
    "            \n",
    "        fitness = 1 / totalCost\n",
    "        return fitness"
   ]
  },
  {
   "cell_type": "code",
   "execution_count": 4,
   "id": "02494975",
   "metadata": {},
   "outputs": [],
   "source": [
    "def readInput(filename):\n",
    "    with open(filename, 'r') as f:\n",
    "        numUsers, numResources = [int(x) for x in f.readline().split()]\n",
    "        cost = [[int(x) for x in f.readline().split()] for _ in range(numUsers)]\n",
    "        fixedCost = [int(x) for x in f.readline().split()]\n",
    "        return cost, fixedCost"
   ]
  },
  {
   "cell_type": "code",
   "execution_count": 5,
   "id": "2764fec7",
   "metadata": {},
   "outputs": [],
   "source": [
    "cost, fixedCost = readInput('uflp.txt')"
   ]
  },
  {
   "cell_type": "code",
   "execution_count": 6,
   "id": "8fcaac38",
   "metadata": {},
   "outputs": [],
   "source": [
    "def selection(population):\n",
    "    TOURNAMENT_SIZE = 5\n",
    "    bestFitness = -1\n",
    "    index = -1\n",
    "    for i in range(TOURNAMENT_SIZE):\n",
    "        randomIndividual = random.randrange(len(population))\n",
    "        if population[randomIndividual].fitness > bestFitness:\n",
    "            bestFitness = population[randomIndividual].fitness\n",
    "            index = randomIndividual\n",
    "    return index"
   ]
  },
  {
   "cell_type": "code",
   "execution_count": 7,
   "id": "77851e0e",
   "metadata": {},
   "outputs": [],
   "source": [
    "def crossover(parent1, parent2, child1, child2):\n",
    "    breakpoint = random.randrange(len(parent1.code))\n",
    "    child1.code[:breakpoint] = parent1.code[:breakpoint]\n",
    "    child2.code[:breakpoint] = parent2.code[:breakpoint]\n",
    "    \n",
    "    child1.code[breakpoint:] = parent2.code[breakpoint:]\n",
    "    child2.code[breakpoint:] = parent1.code[breakpoint:]"
   ]
  },
  {
   "cell_type": "code",
   "execution_count": 8,
   "id": "24d89f72",
   "metadata": {},
   "outputs": [],
   "source": [
    "def mutation(individual):\n",
    "    MUTATION_PROB = 0.05\n",
    "    for i in range(len(individual.code)):\n",
    "        if random.random() < MUTATION_PROB:\n",
    "            individual.code[i] = not individual.code[i]"
   ]
  },
  {
   "cell_type": "code",
   "execution_count": 55,
   "id": "ffb6aebc",
   "metadata": {},
   "outputs": [
    {
     "data": {
      "text/plain": [
       "[False, False, True]"
      ]
     },
     "execution_count": 55,
     "metadata": {},
     "output_type": "execute_result"
    }
   ],
   "source": [
    "POPULATION_SIZE = 100\n",
    "NUM_GENERATIONS = 10\n",
    "ELITISM_SIZE = POPULATION_SIZE // 5\n",
    "\n",
    "population = [Individual(cost, fixedCost) for _ in range(POPULATION_SIZE)]\n",
    "newPopulation = [Individual(cost, fixedCost) for _ in range(POPULATION_SIZE)]\n",
    "\n",
    "for i in range(NUM_GENERATIONS):\n",
    "    # elitizam: najboljih nekoliko cemo iskopirati\n",
    "    population.sort(key=lambda x: x.fitness)\n",
    "    newPopulation[:ELITISM_SIZE] = population[:ELITISM_SIZE]\n",
    "    for j in range(ELITISM_SIZE, POPULATION_SIZE, 2):\n",
    "        parent1 = population[selection(population)]\n",
    "        parent2 = population[selection(population)]\n",
    "\n",
    "        crossover(parent1, parent2, child1 = newPopulation[j], child2 = newPopulation[j+1])\n",
    "        mutation(newPopulation[j])\n",
    "        mutation(newPopulation[j + 1])\n",
    "        \n",
    "    population = newPopulation\n",
    "\n",
    "x = max(population, key=lambda x: x.fitness)\n",
    "x.code"
   ]
  }
 ],
 "metadata": {
  "kernelspec": {
   "display_name": "Python 3 (ipykernel)",
   "language": "python",
   "name": "python3"
  },
  "language_info": {
   "codemirror_mode": {
    "name": "ipython",
    "version": 3
   },
   "file_extension": ".py",
   "mimetype": "text/x-python",
   "name": "python",
   "nbconvert_exporter": "python",
   "pygments_lexer": "ipython3",
   "version": "3.10.1"
  }
 },
 "nbformat": 4,
 "nbformat_minor": 5
}
