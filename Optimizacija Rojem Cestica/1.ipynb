{
 "cells": [
  {
   "cell_type": "code",
   "execution_count": 2,
   "id": "7a72b06d",
   "metadata": {},
   "outputs": [],
   "source": [
    "# swarm = [Particle() ...]\n",
    "# while not stop():\n",
    "#     for particle in swarm:\n",
    "#         r_l, r_g ~ U(0, 1)\n",
    "#         izracunaj novu brzinu v = inercija + lokalno + globalno\n",
    "#         izracunaj novu poziciju p = p + v  "
   ]
  },
  {
   "cell_type": "code",
   "execution_count": 137,
   "id": "69a83a7d",
   "metadata": {},
   "outputs": [],
   "source": [
    "import random\n",
    "import numpy as np"
   ]
  },
  {
   "cell_type": "code",
   "execution_count": 143,
   "id": "6f3dcabc",
   "metadata": {},
   "outputs": [],
   "source": [
    "num_dimensions = 2\n",
    "bounds = np.array([[-5.12, 5.12] for _ in range(num_dimensions)])"
   ]
  },
  {
   "cell_type": "code",
   "execution_count": 144,
   "id": "6d25b147",
   "metadata": {},
   "outputs": [
    {
     "data": {
      "text/plain": [
       "array([-5.12, -5.12])"
      ]
     },
     "execution_count": 144,
     "metadata": {},
     "output_type": "execute_result"
    }
   ],
   "source": [
    "lower_bounds = bounds[:,0]\n",
    "lower_bounds"
   ]
  },
  {
   "cell_type": "code",
   "execution_count": 145,
   "id": "c0f1bce3",
   "metadata": {},
   "outputs": [],
   "source": [
    "def rastrigin(x):\n",
    "    A = 10\n",
    "    n = len(x)\n",
    "    return A*n + sum(x[i]**2 - A*np.cos(2*np.pi*x[i]) for i in range(n))"
   ]
  },
  {
   "cell_type": "code",
   "execution_count": 131,
   "id": "26d880e1",
   "metadata": {},
   "outputs": [],
   "source": [
    "# # Jedna cestica u roju. Svaka cestica ima poziciju i brzinu u nekom domenu i\n",
    "# # prati najbolju poziciju (svoju) i najbolju poziciju celog roja\n",
    "\n",
    "# class Particle:\n",
    "#     swarm_best_position = None\n",
    "#     swarm_best_value = None\n",
    "    \n",
    "#     def __init__(self, bounds, f, c_i, c_p, c_s):\n",
    "        \n",
    "#         # koeficijent inercije - tendencija za kretanjem u trenutnom smeru\n",
    "#         self.c_i = c_i\n",
    "#         # kognitivni koeficijent - tendencija da se krece ka svojoj najboljoj poziciji \n",
    "#         self.c_p = c_p\n",
    "#         # socijalni koeficijent - tendencija da se krece ka globalnoj najboljoj poziciji\n",
    "#         self.c_s = c_s\n",
    "        \n",
    "#         # bounds - gornje i donje granice \n",
    "#         self.lower_bounds = bounds[:, 0]\n",
    "#         self.upper_bounds = bounds[:, 1]\n",
    "        \n",
    "#         # pozicija i brzina ([a, b] format) \n",
    "#         self.position = np.random.uniform(self.lower_bounds, self.upper_bounds, len(bounds))\n",
    "#         self.velocity = np.random.uniform(-1, 1, len(bounds))\n",
    "        \n",
    "#         # pratimo najbolju poziciju i vrednost funkcije za tu poziciju\n",
    "#         self.personal_best_position = self.position\n",
    "        \n",
    "#         self.f = f\n",
    "#         self.value = f(self.position)\n",
    "#         self.personal_best_value = self.value\n",
    "        \n",
    "#         # inicijalizujemo globalne promenljive\n",
    "#         if Particle.swarm_best_value is None or Particle.swarm_best_value > self.value:\n",
    "#             Particle.swarm_best_position = self.position.copy()\n",
    "#             Particle.swarm_best_value = self.value\n",
    "    \n",
    "#     def update_position(self):\n",
    "#         # clip da bi bilo u rasponu lower i upper bounda\n",
    "#         # p = p+v\n",
    "#         self.position = np.clip(self.position + self.velocity,\n",
    "#                                    self.lower_bounds,\n",
    "#                                    self.upper_bounds)\n",
    "#         self.value = self.f(self.position)\n",
    "            \n",
    "#         # updateujemo personal best i swarm best\n",
    "#         if self.value < self.personal_best_value:\n",
    "#             self.personal_best_value = self.value\n",
    "#             self.personal_best_position = self.position.copy()\n",
    "                \n",
    "#             if self.value < Particle.swarm_best_value:\n",
    "#                 Particle.swarm_best_position = self.position.copy()\n",
    "#                 Particle.swarm_best_value = self.value\n",
    "        \n",
    "#     def update_velocity(self):\n",
    "#         # vektor od trenutne do licne najbolje pozicije\n",
    "#         cognitive_velocity = self.personal_best_position - self.position\n",
    "#         # vektor od trenutne do globalne najbolje pozicije\n",
    "#         social_velocity = Particle.swarm_best_position - self.position\n",
    "            \n",
    "#         r_p = np.random.random(len(cognitive_velocity))\n",
    "#         r_s = np.random.random(len(social_velocity))\n",
    "            \n",
    "#         self.velocity = (self.c_i * self.velocity \n",
    "#                          + self.c_p * r_p * cognitive_velocity \n",
    "#                          + self.c_s * r_s * social_velocity)     "
   ]
  },
  {
   "cell_type": "code",
   "execution_count": 162,
   "id": "58c7e5a2",
   "metadata": {},
   "outputs": [],
   "source": [
    "class Particle:\n",
    "    swarm_best_position = None\n",
    "    swarm_best_value = None\n",
    "    \n",
    "    def __init__(self, bounds, f, c_i, c_p, c_s):\n",
    "        self.lower_bounds = bounds[:,0]\n",
    "        self.upper_bounds = bounds[:,1]\n",
    "        \n",
    "        self.f = f\n",
    "    \n",
    "        self.c_i = c_i\n",
    "        self.c_p = c_p\n",
    "        self.c_s = c_s\n",
    "        \n",
    "        self.position = np.random.uniform(self.lower_bounds, self.upper_bounds, len(bounds))\n",
    "        self.velocity = np.random.uniform(-1, 1, len(bounds))\n",
    "        \n",
    "        self.best_position = self.position\n",
    "        self.value = f(self.position)\n",
    "        self.personal_best_value = self.value\n",
    "        \n",
    "        if Particle.swarm_best_value is None or self.personal_best_value < Particle.swarm_best_value:\n",
    "            Particle.swarm_best_position = self.best_position.copy()\n",
    "            Particle.swarm_best_value = self.personal_best_value\n",
    "            \n",
    "    def update_position(self):\n",
    "        self.position = np.clip(self.position + self.velocity,\n",
    "                               self.lower_bounds,\n",
    "                               self.upper_bounds)\n",
    "        self.value = self.f(self.position)\n",
    "        \n",
    "        if self.value < self.personal_best_value:\n",
    "            self.personal_best_value = self.value\n",
    "            self.best_position = self.position.copy()\n",
    "            \n",
    "            if self.value < Particle.swarm_best_value:\n",
    "                Particle.swarm_best_value = self.value\n",
    "                \n",
    "    \n",
    "    def update_velocity(self):\n",
    "        cognitive_velocity = self.best_position - self.position\n",
    "        social_velocity = Particle.swarm_best_position - self.position\n",
    "        \n",
    "        r_p = np.random.random(len(cognitive_velocity))\n",
    "        r_s = np.random.random(len(social_velocity))\n",
    "        \n",
    "        self.velocity = (self.velocity*self.c_i \n",
    "                        + cognitive_velocity*self.c_p*r_p\n",
    "                        + social_velocity*self.c_s*r_s\n",
    "                        )"
   ]
  },
  {
   "cell_type": "code",
   "execution_count": 132,
   "id": "9f677d71",
   "metadata": {},
   "outputs": [
    {
     "data": {
      "text/plain": [
       "array([ 2.53267712, -3.00433635])"
      ]
     },
     "execution_count": 132,
     "metadata": {},
     "output_type": "execute_result"
    }
   ],
   "source": [
    "lower_bounds = bounds[:, 0]\n",
    "upper_bounds = bounds[:, 1]\n",
    "        \n",
    "position = np.random.uniform(lower_bounds, upper_bounds, len(bounds))\n",
    "position"
   ]
  },
  {
   "cell_type": "code",
   "execution_count": 78,
   "id": "ee9cf66f",
   "metadata": {},
   "outputs": [
    {
     "data": {
      "text/plain": [
       "array([0.84310307, 0.03628591])"
      ]
     },
     "execution_count": 78,
     "metadata": {},
     "output_type": "execute_result"
    }
   ],
   "source": [
    "np.random.uniform(-1,1, len(bounds))"
   ]
  },
  {
   "cell_type": "code",
   "execution_count": 158,
   "id": "2fd499cb",
   "metadata": {},
   "outputs": [],
   "source": [
    "def pso(swarm_size, num_iters):\n",
    "    swarm = [Particle(bounds, f=rastrigin, c_i=0.5, c_p=1, c_s=1) for _ in range(swarm_size)]\n",
    "    \n",
    "    for i in range(num_iters):\n",
    "        for p in swarm:\n",
    "            p.update_velocity()\n",
    "            p.update_position()\n",
    "    return Particle.swarm_best_position, Particle.swarm_best_value"
   ]
  },
  {
   "cell_type": "code",
   "execution_count": 161,
   "id": "d56047c8",
   "metadata": {},
   "outputs": [
    {
     "ename": "NameError",
     "evalue": "name 'f' is not defined",
     "output_type": "error",
     "traceback": [
      "\u001b[1;31m---------------------------------------------------------------------------\u001b[0m",
      "\u001b[1;31mNameError\u001b[0m                                 Traceback (most recent call last)",
      "Cell \u001b[1;32mIn[161], line 1\u001b[0m\n\u001b[1;32m----> 1\u001b[0m \u001b[43mpso\u001b[49m\u001b[43m(\u001b[49m\u001b[38;5;241;43m20\u001b[39;49m\u001b[43m,\u001b[49m\u001b[43m \u001b[49m\u001b[38;5;241;43m100\u001b[39;49m\u001b[43m)\u001b[49m\n",
      "Cell \u001b[1;32mIn[158], line 7\u001b[0m, in \u001b[0;36mpso\u001b[1;34m(swarm_size, num_iters)\u001b[0m\n\u001b[0;32m      5\u001b[0m     \u001b[38;5;28;01mfor\u001b[39;00m p \u001b[38;5;129;01min\u001b[39;00m swarm:\n\u001b[0;32m      6\u001b[0m         p\u001b[38;5;241m.\u001b[39mupdate_velocity()\n\u001b[1;32m----> 7\u001b[0m         \u001b[43mp\u001b[49m\u001b[38;5;241;43m.\u001b[39;49m\u001b[43mupdate_position\u001b[49m\u001b[43m(\u001b[49m\u001b[43m)\u001b[49m\n\u001b[0;32m      8\u001b[0m \u001b[38;5;28;01mreturn\u001b[39;00m Particle\u001b[38;5;241m.\u001b[39mswarm_best_position, Particle\u001b[38;5;241m.\u001b[39mswarm_best_value\n",
      "Cell \u001b[1;32mIn[160], line 30\u001b[0m, in \u001b[0;36mParticle.update_position\u001b[1;34m(self)\u001b[0m\n\u001b[0;32m     26\u001b[0m \u001b[38;5;28;01mdef\u001b[39;00m \u001b[38;5;21mupdate_position\u001b[39m(\u001b[38;5;28mself\u001b[39m):\n\u001b[0;32m     27\u001b[0m     \u001b[38;5;28mself\u001b[39m\u001b[38;5;241m.\u001b[39mposition \u001b[38;5;241m=\u001b[39m np\u001b[38;5;241m.\u001b[39mclip(\u001b[38;5;28mself\u001b[39m\u001b[38;5;241m.\u001b[39mposition \u001b[38;5;241m+\u001b[39m \u001b[38;5;28mself\u001b[39m\u001b[38;5;241m.\u001b[39mvelocity,\n\u001b[0;32m     28\u001b[0m                            \u001b[38;5;28mself\u001b[39m\u001b[38;5;241m.\u001b[39mlower_bounds,\n\u001b[0;32m     29\u001b[0m                            \u001b[38;5;28mself\u001b[39m\u001b[38;5;241m.\u001b[39mupper_bounds)\n\u001b[1;32m---> 30\u001b[0m     \u001b[38;5;28mself\u001b[39m\u001b[38;5;241m.\u001b[39mvalue \u001b[38;5;241m=\u001b[39m \u001b[43mf\u001b[49m(\u001b[38;5;28mself\u001b[39m\u001b[38;5;241m.\u001b[39mposition)\n",
      "\u001b[1;31mNameError\u001b[0m: name 'f' is not defined"
     ]
    }
   ],
   "source": [
    "pso(20, 100)"
   ]
  }
 ],
 "metadata": {
  "kernelspec": {
   "display_name": "Python 3 (ipykernel)",
   "language": "python",
   "name": "python3"
  },
  "language_info": {
   "codemirror_mode": {
    "name": "ipython",
    "version": 3
   },
   "file_extension": ".py",
   "mimetype": "text/x-python",
   "name": "python",
   "nbconvert_exporter": "python",
   "pygments_lexer": "ipython3",
   "version": "3.10.1"
  }
 },
 "nbformat": 4,
 "nbformat_minor": 5
}
