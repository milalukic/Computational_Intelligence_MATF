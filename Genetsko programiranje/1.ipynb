{
 "cells": [
  {
   "cell_type": "code",
   "execution_count": 114,
   "id": "54de1438",
   "metadata": {},
   "outputs": [],
   "source": [
    "# nadji najkraci regex koji je tacan za sve iz grupe da, a\n",
    "# netacan za sve iz grupe ne\n",
    "\n",
    "# da:   ne:\n",
    "# rec   rec4\n",
    "# rec2  nikad\n",
    "# rec3  niko\n",
    "\n",
    "# resenje: "
   ]
  },
  {
   "cell_type": "code",
   "execution_count": 115,
   "id": "ba801d6a",
   "metadata": {},
   "outputs": [],
   "source": [
    "import random"
   ]
  },
  {
   "cell_type": "code",
   "execution_count": 116,
   "id": "83956083",
   "metadata": {},
   "outputs": [],
   "source": [
    "class Individual:\n",
    "    def __init__(self, num_operators = 3, num_terminals = 4):\n",
    "        self.code = []\n",
    "        self.num_operators = num_operators\n",
    "        self.num_terminals = num_terminals\n",
    "        \n",
    "        for i in range(num_operators):\n",
    "            self.code.append(self.randomOperator())\n",
    "        for i in range(num_terminals):\n",
    "            self.code.append(self.randomTerminal())\n",
    "        self.fitness = self.calcFitness()\n",
    "        \n",
    "    def __str__(self):\n",
    "        a = str(self.code[3])\n",
    "        b = str(self.code[4])\n",
    "        c = str(self.code[5])\n",
    "        d = str(self.code[6])\n",
    "        \n",
    "        first = '(' + a + self.code[1] + b + ')'\n",
    "        second = '(' + c + self.code[2] + d + ')'\n",
    "\n",
    "        return first + self.code[0] + second\n",
    "    \n",
    "    def __lt__(self, other):\n",
    "        return self.fitness < other.fitness\n",
    "        \n",
    "    def randomOperator(self):\n",
    "        operators = ['+', '-', '*']\n",
    "        return random.choice(operators)\n",
    "    \n",
    "    def randomTerminal(self, lb=-10, ub=10):\n",
    "        return random.randrange(lb, ub+1)\n",
    "    \n",
    "    def calcFitness(self, goal=100):\n",
    "        value = eval(str(self))\n",
    "        return -abs(goal-value)"
   ]
  },
  {
   "cell_type": "code",
   "execution_count": 117,
   "id": "87abd681",
   "metadata": {},
   "outputs": [
    {
     "name": "stdout",
     "output_type": "stream",
     "text": [
      "(4--5)+(7+-6)\n",
      "10\n",
      "-90\n"
     ]
    }
   ],
   "source": [
    "i = Individual()\n",
    "print(i)\n",
    "print(eval(str(i)))\n",
    "print(i.fitness)"
   ]
  },
  {
   "cell_type": "code",
   "execution_count": 118,
   "id": "9aae6dcb",
   "metadata": {},
   "outputs": [],
   "source": [
    "def selection(population):\n",
    "    TOURNAMENT_SIZE = 5\n",
    "    return max(random.sample(population, TOURNAMENT_SIZE))\n",
    "    "
   ]
  },
  {
   "cell_type": "code",
   "execution_count": 131,
   "id": "5496b005",
   "metadata": {},
   "outputs": [],
   "source": [
    "def getSubTree(root_index, subtree_indices, total_num_nodes = 7):\n",
    "    #   0     1    2  3  4   5  6\n",
    "    # [op1, op2, op3, a, b, c, d]\n",
    "    \n",
    "    if root_index < total_num_nodes:\n",
    "        subtree_indices.append(root_index)\n",
    "    \n",
    "        getSubTree(root_index*2+1, subtree_indices, total_num_nodes)\n",
    "        getSubTree(root_index*2+2, subtree_indices, total_num_nodes)"
   ]
  },
  {
   "cell_type": "code",
   "execution_count": 134,
   "id": "6ed66d8f",
   "metadata": {},
   "outputs": [],
   "source": [
    "def crossover(p1, p2, c1, c2):\n",
    "    root_index = random.randrange(1, len(p1.code))\n",
    "    subTreeIndices = []\n",
    "    getSubTree(root_index, subTreeIndices)\n",
    "    \n",
    "    for i in range(len(p1.code)):\n",
    "        if i in subTreeIndices:\n",
    "            c1.code[i] = p2.code[i]\n",
    "            c2.code[i] = p1.code[i]\n",
    "        else:\n",
    "            c1.code[i] = p1.code[i]\n",
    "            c2.code[i] = p2.code[i]"
   ]
  },
  {
   "cell_type": "code",
   "execution_count": 121,
   "id": "0e85632f",
   "metadata": {},
   "outputs": [],
   "source": [
    "def mutation(individual):\n",
    "    MUTATION_PROB = 0.05\n",
    "    for i in range(len(individual.code)):\n",
    "        if random.random() < MUTATION_PROB:\n",
    "            if i < individual.num_operators:\n",
    "                individual.code[i] = individual.randomOperator()\n",
    "            else:\n",
    "                individual.code[i] = individual.randomTerminal()"
   ]
  },
  {
   "cell_type": "code",
   "execution_count": 135,
   "id": "337286c8",
   "metadata": {},
   "outputs": [
    {
     "ename": "IndexError",
     "evalue": "list index out of range",
     "output_type": "error",
     "traceback": [
      "\u001b[1;31m---------------------------------------------------------------------------\u001b[0m",
      "\u001b[1;31mIndexError\u001b[0m                                Traceback (most recent call last)",
      "Cell \u001b[1;32mIn[135], line 21\u001b[0m\n\u001b[0;32m     18\u001b[0m parent1 \u001b[38;5;241m=\u001b[39m selection(population)\n\u001b[0;32m     19\u001b[0m parent2 \u001b[38;5;241m=\u001b[39m selection(population)\n\u001b[1;32m---> 21\u001b[0m \u001b[43mcrossover\u001b[49m\u001b[43m(\u001b[49m\u001b[43mparent1\u001b[49m\u001b[43m,\u001b[49m\u001b[43m \u001b[49m\u001b[43mparent2\u001b[49m\u001b[43m,\u001b[49m\u001b[43m \u001b[49m\u001b[43mnewPopulation\u001b[49m\u001b[43m[\u001b[49m\u001b[43mj\u001b[49m\u001b[43m]\u001b[49m\u001b[43m,\u001b[49m\u001b[43m \u001b[49m\u001b[43mnewPopulation\u001b[49m\u001b[43m[\u001b[49m\u001b[43mj\u001b[49m\u001b[38;5;241;43m+\u001b[39;49m\u001b[38;5;241;43m1\u001b[39;49m\u001b[43m]\u001b[49m\u001b[43m)\u001b[49m\n\u001b[0;32m     23\u001b[0m mutation(newPopulation[j])\n\u001b[0;32m     24\u001b[0m mutation(newPopulation[j\u001b[38;5;241m+\u001b[39m\u001b[38;5;241m1\u001b[39m])\n",
      "Cell \u001b[1;32mIn[134], line 11\u001b[0m, in \u001b[0;36mcrossover\u001b[1;34m(p1, p2, c1, c2)\u001b[0m\n\u001b[0;32m      9\u001b[0m     c2\u001b[38;5;241m.\u001b[39mcode[i] \u001b[38;5;241m=\u001b[39m p1\u001b[38;5;241m.\u001b[39mcode[i]\n\u001b[0;32m     10\u001b[0m \u001b[38;5;28;01melse\u001b[39;00m:\n\u001b[1;32m---> 11\u001b[0m     c1\u001b[38;5;241m.\u001b[39mcode[i] \u001b[38;5;241m=\u001b[39m \u001b[43mp1\u001b[49m\u001b[38;5;241;43m.\u001b[39;49m\u001b[43mcode\u001b[49m\u001b[43m[\u001b[49m\u001b[43mi\u001b[49m\u001b[43m]\u001b[49m\n\u001b[0;32m     12\u001b[0m     c2\u001b[38;5;241m.\u001b[39mcode[i] \u001b[38;5;241m=\u001b[39m p2\u001b[38;5;241m.\u001b[39mcode[i]\n",
      "\u001b[1;31mIndexError\u001b[0m: list index out of range"
     ]
    }
   ],
   "source": [
    "POP_SIZE = 100\n",
    "NUM_GEN = 2000\n",
    "ELITISM_SIZE = POP_SIZE // 3\n",
    "if ELITISM_SIZE % 2 == 1:\n",
    "    ELITISM_SIZE -=1\n",
    "\n",
    "population = [Individual() for _ in range(POP_SIZE)]\n",
    "newPopulation = [Individual() for _ in range(POP_SIZE)]\n",
    "\n",
    "for i in range(NUM_GEN):\n",
    "    population.sort(reverse=True)\n",
    "    \n",
    "    if population[0].fitness == 0:\n",
    "        break\n",
    "    newPopulation[:ELITISM_SIZE] = population[:ELITISM_SIZE]\n",
    "    \n",
    "    for j in range(ELITISM_SIZE, POP_SIZE, 2):\n",
    "        parent1 = selection(population)\n",
    "        parent2 = selection(population)\n",
    "                \n",
    "        crossover(parent1, parent2, newPopulation[j], newPopulation[j+1])\n",
    "        \n",
    "        mutation(newPopulation[j])\n",
    "        mutation(newPopulation[j+1])\n",
    "        \n",
    "    population = newPopulation\n",
    "    \n",
    "best = max(population)\n",
    "print(best)\n",
    "print(best.fitness)"
   ]
  }
 ],
 "metadata": {
  "kernelspec": {
   "display_name": "Python 3 (ipykernel)",
   "language": "python",
   "name": "python3"
  },
  "language_info": {
   "codemirror_mode": {
    "name": "ipython",
    "version": 3
   },
   "file_extension": ".py",
   "mimetype": "text/x-python",
   "name": "python",
   "nbconvert_exporter": "python",
   "pygments_lexer": "ipython3",
   "version": "3.10.1"
  }
 },
 "nbformat": 4,
 "nbformat_minor": 5
}
