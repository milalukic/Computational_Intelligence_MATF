{
 "cells": [
  {
   "cell_type": "code",
   "execution_count": 1,
   "id": "e1b6b938",
   "metadata": {},
   "outputs": [],
   "source": [
    "# UFLP - Uncapacitated Facilitated Location Problem\n",
    "\n",
    "# Imamo I korisnika i J resursa Pravimo bolnice u gradu od 0 \n",
    "# i hocemo najbolje lokacije za bolnice tako da budu sto blize i sto jeftinije\n",
    "\n",
    "# Cij - cena pridruzivanja korisnika i resursu j \n",
    "# fij - cena uspostavljanja resursa j\n",
    "\n",
    "\n",
    "# 10 korisnika\n",
    "# 5 bolnica\n",
    "# c\n",
    "# f\n",
    "\n",
    "# solution = [True, False, False, True, False]"
   ]
  },
  {
   "cell_type": "markdown",
   "id": "032ba289",
   "metadata": {},
   "source": [
    "## Local Search"
   ]
  },
  {
   "cell_type": "code",
   "execution_count": 1,
   "id": "43b1e296",
   "metadata": {},
   "outputs": [],
   "source": [
    "import random"
   ]
  },
  {
   "cell_type": "code",
   "execution_count": 3,
   "id": "9f762ab8",
   "metadata": {},
   "outputs": [],
   "source": [
    "def isFeasible(solution):\n",
    "    for resource in solution:\n",
    "        if resource:\n",
    "            return True\n",
    "    return False"
   ]
  },
  {
   "cell_type": "code",
   "execution_count": 5,
   "id": "12259c39",
   "metadata": {},
   "outputs": [],
   "source": [
    "def initialize(numResources):\n",
    "    solution = [random.random() < 0.25 for _ in range(numResources)]\n",
    "    if not isFeasible(solution):\n",
    "        chosenResource = random.randrange(0, numResources)\n",
    "        solution[chosenResource] = True\n",
    "    return solution"
   ]
  },
  {
   "cell_type": "code",
   "execution_count": 16,
   "id": "cb3eb2ae",
   "metadata": {},
   "outputs": [],
   "source": [
    "def calcSolutionValue(solution, cost, fixedCost):\n",
    "    \n",
    "    value = 0\n",
    "    numUsers = len(cost)\n",
    "    numResources = len(fixedCost)\n",
    "    \n",
    "    used = [False for _ in range(numResources)]\n",
    "    \n",
    "    for i in range(numUsers):\n",
    "        bestCost = float('inf')\n",
    "        rUsed = -1\n",
    "        for j in range(numResources):\n",
    "            if solution[j] and cost[i][j] < bestCost:\n",
    "                rUsed = j\n",
    "                bestCost = cost[i][j]\n",
    "        value += bestCost\n",
    "        used[rUsed] = True\n",
    "        \n",
    "    for i in range(numResources):\n",
    "        if used[i]:\n",
    "            value += fixedCost[i]\n",
    "            \n",
    "    return value"
   ]
  },
  {
   "cell_type": "code",
   "execution_count": 8,
   "id": "0fd629ed",
   "metadata": {},
   "outputs": [],
   "source": [
    "# probamo drugo resenje - samo flipujemo jedan True/False\n",
    "def invert(solution):\n",
    "    randomResource = random.randrange(0, len(solution))\n",
    "    solution[randomResource] = not solution[randomResource]\n",
    "    \n",
    "    if not isFeasible(solution):\n",
    "        solution[randomResource] = not solution[randomResource]\n",
    "        return -1, solution\n",
    "    return randomResource, solution"
   ]
  },
  {
   "cell_type": "code",
   "execution_count": 13,
   "id": "811ff31d",
   "metadata": {},
   "outputs": [],
   "source": [
    "def localSearch(cost, fixedCost, iters):\n",
    "    # initialize solution, bestValue, current value\n",
    "    solution = initialize(len(fixedCost))\n",
    "    currentValue = calcSolutionValue(solution, cost, fixedCost)\n",
    "    bestValue = currentValue\n",
    "    # for every iter\n",
    "    for i in range(iters):\n",
    "        # invert solution\n",
    "        success, solution = invert(solution)\n",
    "        \n",
    "        if success < 0:\n",
    "            continue       \n",
    "        # calculate new solution value\n",
    "        newValue = calcSolutionValue(solution, cost, fixedCost)\n",
    "        # if it's better than current value, update current\n",
    "        if newValue < currentValue:\n",
    "            currentValue = newValue\n",
    "            # if it's better than best value, update best\n",
    "            if newValue < bestValue:\n",
    "                bestValue = newValue\n",
    "            # else: return to previous solution\n",
    "            else:\n",
    "                solution[success] = not solution[success]\n",
    "        \n",
    "    # return best value\n",
    "    return bestValue"
   ]
  },
  {
   "cell_type": "code",
   "execution_count": 14,
   "id": "eb6676f7",
   "metadata": {},
   "outputs": [],
   "source": [
    "def readInput(filename):\n",
    "    with open(filename, 'r') as f:\n",
    "        numUsers, numResources = [int(x) for x in f.readline().split()]\n",
    "        cost = [[int(x) for x in f.readline().split()] for _ in range(numUsers)]\n",
    "        fixedCost = [int(x) for x in f.readline().split()]\n",
    "        return cost, fixedCost"
   ]
  },
  {
   "cell_type": "code",
   "execution_count": 23,
   "id": "5e732e64",
   "metadata": {},
   "outputs": [
    {
     "data": {
      "text/plain": [
       "34"
      ]
     },
     "execution_count": 23,
     "metadata": {},
     "output_type": "execute_result"
    }
   ],
   "source": [
    "cost, fixedCost = readInput(\"uflp1.txt\")\n",
    "localSearch(cost, fixedCost, 1000)"
   ]
  },
  {
   "cell_type": "markdown",
   "id": "56fdd568",
   "metadata": {},
   "source": [
    "## Simulirano Kaljenje\n",
    "\n",
    "Uzimamo u obzir lokalne ekstremume: Sa nekom verovatnocom cemo ponekad uzeti losije resenje namerno, kako bismo ispitali potencijalan bolji rezultat u drugoj okolini"
   ]
  },
  {
   "cell_type": "code",
   "execution_count": 44,
   "id": "323ad98b",
   "metadata": {},
   "outputs": [],
   "source": [
    "from copy import deepcopy"
   ]
  },
  {
   "cell_type": "code",
   "execution_count": 97,
   "id": "2b1c3ad1",
   "metadata": {},
   "outputs": [],
   "source": [
    "def simulatedAnnealing(cost, fixedCost, iters):\n",
    "    solution = initialize(len(fixedCost))\n",
    "    currValue = calcSolutionValue(solution, cost, fixedCost)\n",
    "    bestValue = currValue\n",
    "    bestSolution = deepcopy(solution)\n",
    "    \n",
    "    for i in range(iters):\n",
    "        success, newSolution = invert(solution)\n",
    "        if success < 0:\n",
    "            continue\n",
    "            \n",
    "        newValue = calcSolutionValue(newSolution, cost, fixedCost)\n",
    "        \n",
    "        if newValue < currValue:\n",
    "            currValue = newValue\n",
    "            solution = deepcopy(newSolution)\n",
    "            \n",
    "            if newValue < bestValue:\n",
    "                bestValue = newValue\n",
    "                bestSolution = deepcopy(newSolution)\n",
    "        \n",
    "        else: \n",
    "            p = 1.0/(i+1.0)\n",
    "            q = random.uniform(0,1)\n",
    "            \n",
    "            if p > q:\n",
    "                currValue = newValue\n",
    "                \n",
    "    return bestValue, bestSolution"
   ]
  },
  {
   "cell_type": "code",
   "execution_count": 96,
   "id": "20157d83",
   "metadata": {},
   "outputs": [
    {
     "data": {
      "text/plain": [
       "(34, [True, False, False])"
      ]
     },
     "execution_count": 96,
     "metadata": {},
     "output_type": "execute_result"
    }
   ],
   "source": [
    "simulatedAnnealing(cost, fixedCost, 100)"
   ]
  },
  {
   "cell_type": "markdown",
   "id": "3aedc2e1",
   "metadata": {},
   "source": [
    "## Metoda promenljivih okolina\n",
    "\n",
    "Vise okolina - pokusavamo da sirimo raspon u kojem razmatramo sledecu opciju za solution. \n",
    "\n",
    "Mi radimo REDUKOVANU METODU"
   ]
  },
  {
   "cell_type": "code",
   "execution_count": 84,
   "id": "2a390ebd",
   "metadata": {},
   "outputs": [],
   "source": [
    "# Pseudokod: \n",
    "\n",
    "# solution = initialize()\n",
    "# currValue = calcSolutionValue(solution)\n",
    "# bestValue = currValue\n",
    "\n",
    "# while not stop_condition():\n",
    "#     k = 0\n",
    "#     while k <= max_neighborhoods:\n",
    "#         newSolution = getNeighbor(solution, k)\n",
    "#         newValue = calcSolutionValue(newSolution)\n",
    "        \n",
    "#         if newValue < currValue:\n",
    "#             currValue = newValue\n",
    "#             solution = newSolution\n",
    "            \n",
    "#         else:\n",
    "#             k += 1\n",
    "# return bestSolution"
   ]
  },
  {
   "cell_type": "code",
   "execution_count": 95,
   "id": "bb4eae25",
   "metadata": {},
   "outputs": [],
   "source": [
    "def getNeighbor(solution, k):\n",
    "    indices = range(len(solution))\n",
    "    toInvert = random.sample(indices, k)\n",
    "    \n",
    "    for index in toInvert:\n",
    "        solution[index] = not solution[index]\n",
    "        \n",
    "    if isFeasible(solution):\n",
    "        return True, toInvert\n",
    "    else:\n",
    "        return False, toInvert"
   ]
  },
  {
   "cell_type": "code",
   "execution_count": 90,
   "id": "447fabb3",
   "metadata": {},
   "outputs": [],
   "source": [
    "def restore(solution, invertedIndices):\n",
    "    for resource in invertedIndices:\n",
    "        solution[resource] = not solution[resource] "
   ]
  },
  {
   "cell_type": "code",
   "execution_count": 100,
   "id": "efc48e39",
   "metadata": {},
   "outputs": [],
   "source": [
    "def RVNS(cost, fixedCost, iters, maxK):\n",
    "    solution = initialize(len(fixedCost))\n",
    "    currValue = calcSolutionValue(solution, cost, fixedCost)\n",
    "    bestValue = currValue\n",
    "    \n",
    "    for i in range(iters):\n",
    "        k = 0\n",
    "        while k <= maxK:\n",
    "            success, invertedIndices = getNeighbor(solution, k)\n",
    "            if not success:\n",
    "                #vrati se na originalni solution\n",
    "                restore(solution, invertedIndices)\n",
    "                continue        \n",
    "                \n",
    "            newValue = calcSolutionValue(solution, cost, fixedCost)\n",
    "            if newValue < currValue:\n",
    "                currValue = newValue\n",
    "                \n",
    "                if newValue < bestValue:\n",
    "                    bestValue = newValue\n",
    "                    \n",
    "                break\n",
    "            else: \n",
    "                k += 1\n",
    "                restore(solution, invertedIndices)\n",
    "                \n",
    "    return bestValue"
   ]
  },
  {
   "cell_type": "code",
   "execution_count": 101,
   "id": "e4ab7c18",
   "metadata": {},
   "outputs": [
    {
     "data": {
      "text/plain": [
       "34"
      ]
     },
     "execution_count": 101,
     "metadata": {},
     "output_type": "execute_result"
    }
   ],
   "source": [
    "RVNS(cost, fixedCost, 10, 2)"
   ]
  }
 ],
 "metadata": {
  "kernelspec": {
   "display_name": "Python 3 (ipykernel)",
   "language": "python",
   "name": "python3"
  },
  "language_info": {
   "codemirror_mode": {
    "name": "ipython",
    "version": 3
   },
   "file_extension": ".py",
   "mimetype": "text/x-python",
   "name": "python",
   "nbconvert_exporter": "python",
   "pygments_lexer": "ipython3",
   "version": "3.10.1"
  }
 },
 "nbformat": 4,
 "nbformat_minor": 5
}
