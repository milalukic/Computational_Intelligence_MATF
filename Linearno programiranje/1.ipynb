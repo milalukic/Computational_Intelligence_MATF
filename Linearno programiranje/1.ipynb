{
 "cells": [
  {
   "cell_type": "markdown",
   "id": "d301624c",
   "metadata": {},
   "source": [
    "Trazimo minimum neke funkcije f(x) pod uslovom da neko g(x) <= 17.\n",
    "\n",
    "Optimizovanje F pod uslovom G1, G2, G3, ...\n",
    "\n",
    "min f(x)\n",
    "g_1(x) <= b_i\n",
    "ili\n",
    "-g_1 >= -b_i\n",
    "\n",
    "f(x) = c*x = c0*x0 + c1*x1 + .... + cn*xn\n",
    "g_i(x) = a_i*x\n",
    "\n",
    "##### Linearno programiranje\n",
    "\n",
    "min cx pod uslovom da vazi\n",
    "Ax <= b\n",
    "\n",
    "A - slozeni svi a_i u matricu\n",
    "b - slozeni svi b_i u vektor"
   ]
  },
  {
   "cell_type": "markdown",
   "id": "fd55ba32",
   "metadata": {},
   "source": [
    "#### Zadatak\n",
    "\n",
    "fiksni telefon - 12EUR\n",
    "mobilni telefon - 20EUR profit\n",
    "\n",
    "X - broj fiksnih\n",
    "Y - broj mobilnih\n",
    "\n",
    "max PROFIT x=? y=?\n",
    "\n",
    "Trazimo max x\\*12 + y\\*20\n",
    "\n",
    "1. Faza: fiksni sklapanje 0.2h, mobilni sklapanje 0.4h\n",
    "2. Faza: zavrsni detalji: fiksni 0.5h, mobilni 0.4h\n",
    "\n",
    "Ogranicenja: \n",
    "1. faza <= 400h\n",
    "2. faza <= 490h\n",
    "\n",
    "x >= 100\n",
    "y >= 100\n",
    "\n",
    "=> \n",
    "\n",
    "0.2\\*X + 0.4\\*y <= 400\n",
    "\n",
    "0.5\\*x + 0.4\\*y <= 490"
   ]
  },
  {
   "cell_type": "code",
   "execution_count": 1,
   "id": "35713a46",
   "metadata": {},
   "outputs": [],
   "source": [
    "from docplex.mp.model import Model"
   ]
  },
  {
   "cell_type": "code",
   "execution_count": 2,
   "id": "b8ae6480",
   "metadata": {},
   "outputs": [],
   "source": [
    "model = Model(name='phones')"
   ]
  },
  {
   "cell_type": "code",
   "execution_count": 3,
   "id": "bc295c16",
   "metadata": {},
   "outputs": [],
   "source": [
    "x = model.continuous_var(lb=100, name='x')"
   ]
  },
  {
   "cell_type": "code",
   "execution_count": 4,
   "id": "9a8fc5aa",
   "metadata": {},
   "outputs": [],
   "source": [
    "y = model.continuous_var(lb=100, name='y')"
   ]
  },
  {
   "cell_type": "code",
   "execution_count": 5,
   "id": "49b57b95",
   "metadata": {},
   "outputs": [
    {
     "data": {
      "text/plain": [
       "docplex.mp.LinearConstraint[](x,GE,100)"
      ]
     },
     "execution_count": 5,
     "metadata": {},
     "output_type": "execute_result"
    }
   ],
   "source": [
    "model.add_constraint(x>= 100)"
   ]
  },
  {
   "cell_type": "code",
   "execution_count": 6,
   "id": "141bbea3",
   "metadata": {},
   "outputs": [
    {
     "data": {
      "text/plain": [
       "docplex.mp.LinearConstraint[](y,GE,100)"
      ]
     },
     "execution_count": 6,
     "metadata": {},
     "output_type": "execute_result"
    }
   ],
   "source": [
    "model.add_constraint(y >= 100)"
   ]
  },
  {
   "cell_type": "code",
   "execution_count": 7,
   "id": "7f8a5dc3",
   "metadata": {},
   "outputs": [
    {
     "data": {
      "text/plain": [
       "docplex.mp.LinearConstraint[](0.200x+0.400y,LE,400)"
      ]
     },
     "execution_count": 7,
     "metadata": {},
     "output_type": "execute_result"
    }
   ],
   "source": [
    "model.add_constraint(0.2*x + 0.4*y <= 400)"
   ]
  },
  {
   "cell_type": "code",
   "execution_count": 8,
   "id": "353bc584",
   "metadata": {},
   "outputs": [
    {
     "data": {
      "text/plain": [
       "docplex.mp.LinearConstraint[](0.500x+0.400y,LE,490)"
      ]
     },
     "execution_count": 8,
     "metadata": {},
     "output_type": "execute_result"
    }
   ],
   "source": [
    "model.add_constraint(0.5*x + 0.4*y <= 490)"
   ]
  },
  {
   "cell_type": "code",
   "execution_count": 9,
   "id": "390c0d40",
   "metadata": {},
   "outputs": [],
   "source": [
    "model.maximize(12 * x + 20 * y)"
   ]
  },
  {
   "cell_type": "code",
   "execution_count": 10,
   "id": "4f36c451",
   "metadata": {},
   "outputs": [
    {
     "name": "stdout",
     "output_type": "stream",
     "text": [
      "Model: phones\n",
      " - number of variables: 2\n",
      "   - binary=0, integer=0, continuous=2\n",
      " - number of constraints: 4\n",
      "   - linear=4\n",
      " - parameters: defaults\n",
      " - objective: maximize\n",
      " - problem type is: LP\n"
     ]
    }
   ],
   "source": [
    "model.print_information()"
   ]
  },
  {
   "cell_type": "code",
   "execution_count": 11,
   "id": "2d0e2866",
   "metadata": {},
   "outputs": [
    {
     "data": {
      "text/plain": [
       "docplex.mp.solution.SolveSolution(obj=20600,values={x:300,y:850})"
      ]
     },
     "execution_count": 11,
     "metadata": {},
     "output_type": "execute_result"
    }
   ],
   "source": [
    "model.solve()"
   ]
  },
  {
   "cell_type": "code",
   "execution_count": 12,
   "id": "0599b55e",
   "metadata": {
    "scrolled": true
   },
   "outputs": [
    {
     "name": "stdout",
     "output_type": "stream",
     "text": [
      "objective: 20600.000\n",
      "status: OPTIMAL_SOLUTION(2)\n",
      "  x=300.000\n",
      "  y=850.000\n"
     ]
    }
   ],
   "source": [
    "model.print_solution()"
   ]
  },
  {
   "cell_type": "markdown",
   "id": "eb88f0d2",
   "metadata": {},
   "source": [
    "UFLP\n",
    "I korisnika\n",
    "J resursa\n",
    "Cij cena pridruzivanja korisnika i resursu j\n",
    "fj cena resursa j\n",
    "\n",
    "_Trazim: min{SUM(yj\\*fj) + SUM(SUM(xij\\*cij))}_\n",
    "\n",
    "yj - 1 ako uspostavljamo, 0 ako ne uspostavljamo taj resurs\n",
    "\n",
    "xij - 1 ako uspostavljamo s tim korisnikom, 0 ako ne \n",
    "\n",
    "**SUM(xij) - 1 za svako i (samo jednom resursu mozemo da pridruzimo korisnika)**\n",
    "\n",
    "Ako je xij = 1 onda mora yj = 1\n",
    "\n",
    "Ako je xij = 0 onda moze yj = 1 ili yj = 0\n",
    "\n",
    "**xij <= yj za svako i i j**\n"
   ]
  },
  {
   "cell_type": "code",
   "execution_count": 13,
   "id": "530de906",
   "metadata": {},
   "outputs": [],
   "source": [
    "def readInput(filename):\n",
    "    with open(filename, 'r') as f:\n",
    "        numUsers, numResources = [int(x) for x in f.readline().split()]\n",
    "        cost = [[int(x) for x in f.readline().split()] for _ in range(numUsers)]\n",
    "        fixedCost = [int(x) for x in f.readline().split()]\n",
    "        \n",
    "    return cost, fixedCost"
   ]
  },
  {
   "cell_type": "code",
   "execution_count": 14,
   "id": "db605dcf",
   "metadata": {},
   "outputs": [
    {
     "name": "stdout",
     "output_type": "stream",
     "text": [
      "3 3\n"
     ]
    }
   ],
   "source": [
    "cost, fixedCost = readInput('uflp1.txt')\n",
    "numUsers = len(cost)\n",
    "numResources = len(fixedCost)\n",
    "print(numUsers, numResources)"
   ]
  },
  {
   "cell_type": "code",
   "execution_count": 15,
   "id": "464d09a6",
   "metadata": {},
   "outputs": [],
   "source": [
    "model = Model(name='uflp')"
   ]
  },
  {
   "cell_type": "code",
   "execution_count": 16,
   "id": "5aaf9410",
   "metadata": {},
   "outputs": [],
   "source": [
    "x = model.binary_var_matrix(numUsers, numResources, name='X')"
   ]
  },
  {
   "cell_type": "code",
   "execution_count": 17,
   "id": "1f4251c4",
   "metadata": {},
   "outputs": [
    {
     "data": {
      "text/plain": [
       "{(0, 0): docplex.mp.Var(type=B,name='X_0_0'),\n",
       " (0, 1): docplex.mp.Var(type=B,name='X_0_1'),\n",
       " (0, 2): docplex.mp.Var(type=B,name='X_0_2'),\n",
       " (1, 0): docplex.mp.Var(type=B,name='X_1_0'),\n",
       " (1, 1): docplex.mp.Var(type=B,name='X_1_1'),\n",
       " (1, 2): docplex.mp.Var(type=B,name='X_1_2'),\n",
       " (2, 0): docplex.mp.Var(type=B,name='X_2_0'),\n",
       " (2, 1): docplex.mp.Var(type=B,name='X_2_1'),\n",
       " (2, 2): docplex.mp.Var(type=B,name='X_2_2')}"
      ]
     },
     "execution_count": 17,
     "metadata": {},
     "output_type": "execute_result"
    }
   ],
   "source": [
    "x"
   ]
  },
  {
   "cell_type": "code",
   "execution_count": 18,
   "id": "4d4681bc",
   "metadata": {},
   "outputs": [],
   "source": [
    "y = model.binary_var_list(numResources, name='Y')"
   ]
  },
  {
   "cell_type": "code",
   "execution_count": 19,
   "id": "783aa100",
   "metadata": {},
   "outputs": [
    {
     "data": {
      "text/plain": [
       "[docplex.mp.Var(type=B,name='Y_0'),\n",
       " docplex.mp.Var(type=B,name='Y_1'),\n",
       " docplex.mp.Var(type=B,name='Y_2')]"
      ]
     },
     "execution_count": 19,
     "metadata": {},
     "output_type": "execute_result"
    }
   ],
   "source": [
    "y"
   ]
  },
  {
   "cell_type": "code",
   "execution_count": 20,
   "id": "24daeccc",
   "metadata": {},
   "outputs": [
    {
     "data": {
      "text/plain": [
       "[docplex.mp.LinearConstraint[](X_0_0+X_0_1+X_0_2,EQ,1),\n",
       " docplex.mp.LinearConstraint[](X_1_0+X_1_1+X_1_2,EQ,1),\n",
       " docplex.mp.LinearConstraint[](X_2_0+X_2_1+X_2_2,EQ,1)]"
      ]
     },
     "execution_count": 20,
     "metadata": {},
     "output_type": "execute_result"
    }
   ],
   "source": [
    "# SUM(xij) - 1 za svako i (samo jednom resursu mozemo da pridruzimo korisnika)\n",
    "\n",
    "model.add_constraints([sum(x[i,j] for j in range(numResources)) == 1 for i in range(numUsers)] )"
   ]
  },
  {
   "cell_type": "code",
   "execution_count": 21,
   "id": "4c26404b",
   "metadata": {},
   "outputs": [],
   "source": [
    "# xij <= yj za svako i i j\n",
    "for j in range(numResources):\n",
    "    for i in range(numUsers):\n",
    "        model.add_constraint(x[i, j] <= y[j])"
   ]
  },
  {
   "cell_type": "code",
   "execution_count": 22,
   "id": "a9d66fd2",
   "metadata": {},
   "outputs": [
    {
     "name": "stdout",
     "output_type": "stream",
     "text": [
      "Model: uflp\n",
      " - number of variables: 12\n",
      "   - binary=12, integer=0, continuous=0\n",
      " - number of constraints: 12\n",
      "   - linear=12\n",
      " - parameters: defaults\n",
      " - objective: none\n",
      " - problem type is: MILP\n"
     ]
    }
   ],
   "source": [
    "model.print_information()"
   ]
  },
  {
   "cell_type": "code",
   "execution_count": 23,
   "id": "115776f2",
   "metadata": {},
   "outputs": [],
   "source": [
    "# min{SUM(yj\\*fj) + SUM(SUM(xij\\*cij))}\n",
    "\n",
    "# SUM(yj*fj)\n",
    "first = 0\n",
    "for j in range(numResources):\n",
    "    first += y[j] * fixedCost[j]\n",
    "    \n",
    "# SUM(SUM(xij\\*cij))\n",
    "\n",
    "second = 0\n",
    "for j in range(numResources):\n",
    "    for i in range(numUsers):\n",
    "         second += x[i, j] * cost[i][j]"
   ]
  },
  {
   "cell_type": "code",
   "execution_count": 24,
   "id": "03045056",
   "metadata": {},
   "outputs": [],
   "source": [
    "model.minimize(first + second)"
   ]
  },
  {
   "cell_type": "code",
   "execution_count": 25,
   "id": "02257f80",
   "metadata": {},
   "outputs": [],
   "source": [
    "solution = model.solve()"
   ]
  },
  {
   "cell_type": "code",
   "execution_count": 26,
   "id": "e3dbeae8",
   "metadata": {},
   "outputs": [
    {
     "name": "stdout",
     "output_type": "stream",
     "text": [
      "solution for: uflp\n",
      "objective: 34\n",
      "status: OPTIMAL_SOLUTION(2)\n",
      "X_0_0 = 1\n",
      "X_1_0 = 1\n",
      "X_2_0 = 1\n",
      "Y_0 = 1\n"
     ]
    }
   ],
   "source": [
    "solution.display()"
   ]
  },
  {
   "cell_type": "code",
   "execution_count": null,
   "id": "8fd7e5a3",
   "metadata": {},
   "outputs": [],
   "source": []
  },
  {
   "cell_type": "code",
   "execution_count": 27,
   "id": "5402e4be",
   "metadata": {},
   "outputs": [],
   "source": [
    "# I korisnika\n",
    "# J resursa\n",
    "# Cij, fj\n",
    "\n",
    "# SSCLFP -> single source capacity limitation \n",
    "\n",
    "# Sj -> kapacitet resursa (koliko bolnica moze da stane u jedno naselje)\n",
    "# di -> potraznja korisnika (koliko ljudi ima u naselju)\n",
    "\n",
    "# minf = SUM(yj*fj) + SUM(SUM(xij*cij)) \n",
    "\n",
    "# SUM(xij) = 1  .\n",
    "\n",
    "# xij <= yj \n",
    "\n",
    "# SUM(xij*di) <= Sj*yj - suma svih potraznji korisnika mora biti\n",
    "# manja ili = kapacitetu uspostavljenog resursa\n"
   ]
  },
  {
   "cell_type": "code",
   "execution_count": 28,
   "id": "7b3ddecd",
   "metadata": {},
   "outputs": [],
   "source": [
    "model = Model(name='ssclfp')"
   ]
  },
  {
   "cell_type": "code",
   "execution_count": 29,
   "id": "1b6725a7",
   "metadata": {},
   "outputs": [],
   "source": [
    "x = model.binary_var_matrix(numUsers, numResources, name='x')\n",
    "y = model.binary_var_list(numResources, name='y')"
   ]
  },
  {
   "cell_type": "code",
   "execution_count": 30,
   "id": "745453c8",
   "metadata": {},
   "outputs": [
    {
     "data": {
      "text/plain": [
       "[docplex.mp.LinearConstraint[](x_0_0+x_0_1+x_0_2,EQ,1),\n",
       " docplex.mp.LinearConstraint[](x_1_0+x_1_1+x_1_2,EQ,1),\n",
       " docplex.mp.LinearConstraint[](x_2_0+x_2_1+x_2_2,EQ,1)]"
      ]
     },
     "execution_count": 30,
     "metadata": {},
     "output_type": "execute_result"
    }
   ],
   "source": [
    "model.add_constraints([sum(x[i,j] for j in range(numResources)) == 1 for i in range(numUsers)] )"
   ]
  },
  {
   "cell_type": "code",
   "execution_count": 31,
   "id": "b4862a18",
   "metadata": {},
   "outputs": [],
   "source": [
    "for i in range(numUsers):\n",
    "    for j in range(numResources):\n",
    "        model.add_constraint(x[i,j] <= y[j])"
   ]
  },
  {
   "cell_type": "code",
   "execution_count": 51,
   "id": "f6aba82b",
   "metadata": {},
   "outputs": [],
   "source": [
    "d = [1 for i in range(numUsers)]\n",
    "s = [1.5 for j in range(numResources)]"
   ]
  },
  {
   "cell_type": "code",
   "execution_count": 33,
   "id": "33ad0c81",
   "metadata": {},
   "outputs": [],
   "source": [
    "for j in range(numResources):\n",
    "    model.add_constraint(sum(x[i,j]*d[i] for i in range(numUsers)) <= s[j]*y[j])"
   ]
  },
  {
   "cell_type": "code",
   "execution_count": 34,
   "id": "ad71d3cf",
   "metadata": {},
   "outputs": [
    {
     "name": "stdout",
     "output_type": "stream",
     "text": [
      "Model: ssclfp\n",
      " - number of variables: 12\n",
      "   - binary=12, integer=0, continuous=0\n",
      " - number of constraints: 15\n",
      "   - linear=15\n",
      " - parameters: defaults\n",
      " - objective: none\n",
      " - problem type is: MILP\n"
     ]
    }
   ],
   "source": [
    "model.print_information()"
   ]
  },
  {
   "cell_type": "code",
   "execution_count": 35,
   "id": "a8a1bbc8",
   "metadata": {},
   "outputs": [],
   "source": [
    "first = sum(y[j]*fixedCost[j] for j in range(numResources))"
   ]
  },
  {
   "cell_type": "code",
   "execution_count": 36,
   "id": "a33d369b",
   "metadata": {},
   "outputs": [],
   "source": [
    "second = sum(sum(x[i,j]*cost[i][j] for j in range(numResources)) for i in range(numUsers))"
   ]
  },
  {
   "cell_type": "code",
   "execution_count": 37,
   "id": "f1da2c40",
   "metadata": {},
   "outputs": [],
   "source": [
    "model.minimize(first + second)"
   ]
  },
  {
   "cell_type": "code",
   "execution_count": 38,
   "id": "d14c2160",
   "metadata": {},
   "outputs": [
    {
     "data": {
      "text/plain": [
       "docplex.mp.solution.SolveSolution(obj=34,values={x_0_0:1,x_1_0:1,x_2_0:1.."
      ]
     },
     "execution_count": 38,
     "metadata": {},
     "output_type": "execute_result"
    }
   ],
   "source": [
    "model.solve()"
   ]
  },
  {
   "cell_type": "code",
   "execution_count": 39,
   "id": "fd5b17c9",
   "metadata": {},
   "outputs": [
    {
     "name": "stdout",
     "output_type": "stream",
     "text": [
      "objective: 34\n",
      "status: OPTIMAL_SOLUTION(2)\n",
      "  x_0_0=1\n",
      "  x_1_0=1\n",
      "  x_2_0=1\n",
      "  y_0=1\n"
     ]
    }
   ],
   "source": [
    "model.print_solution()"
   ]
  },
  {
   "cell_type": "code",
   "execution_count": 40,
   "id": "5460fea9",
   "metadata": {},
   "outputs": [],
   "source": [
    "# MSCFLP:\n",
    "    \n",
    "# x[i,j] moze biti i 1/3 1/3 1/3 (zbir 1 ali nije 1 ili 0 vec xij E [0,1])\n",
    "#"
   ]
  },
  {
   "cell_type": "code",
   "execution_count": 52,
   "id": "e84597fd",
   "metadata": {},
   "outputs": [],
   "source": [
    "model = Model(name = 'mscflp')"
   ]
  },
  {
   "cell_type": "code",
   "execution_count": 53,
   "id": "7c9b6e0a",
   "metadata": {},
   "outputs": [],
   "source": [
    "x = model.continuous_var_matrix(numUsers, numResources, name='x')"
   ]
  },
  {
   "cell_type": "code",
   "execution_count": 54,
   "id": "1c5cc5eb",
   "metadata": {},
   "outputs": [],
   "source": [
    "y = model.binary_var_list(numResources, name='y')"
   ]
  },
  {
   "cell_type": "code",
   "execution_count": 55,
   "id": "c693fea7",
   "metadata": {},
   "outputs": [
    {
     "data": {
      "text/plain": [
       "[docplex.mp.LinearConstraint[](x_0_0+x_0_1+x_0_2,EQ,1),\n",
       " docplex.mp.LinearConstraint[](x_1_0+x_1_1+x_1_2,EQ,1),\n",
       " docplex.mp.LinearConstraint[](x_2_0+x_2_1+x_2_2,EQ,1)]"
      ]
     },
     "execution_count": 55,
     "metadata": {},
     "output_type": "execute_result"
    }
   ],
   "source": [
    "model.add_constraints([sum(x[i,j] for j in range(numResources)) == 1 for i in range(numUsers)] )"
   ]
  },
  {
   "cell_type": "code",
   "execution_count": 56,
   "id": "7e760f55",
   "metadata": {},
   "outputs": [],
   "source": [
    "for i in range(numUsers):\n",
    "    for j in range(numResources):\n",
    "        model.add_constraint(x[i,j] <= y[j])"
   ]
  },
  {
   "cell_type": "code",
   "execution_count": 57,
   "id": "c3171176",
   "metadata": {},
   "outputs": [],
   "source": [
    "for j in range(numResources):\n",
    "    model.add_constraint(sum(x[i,j]*d[i] for i in range(numUsers)) <= s[j]*y[j])"
   ]
  },
  {
   "cell_type": "code",
   "execution_count": 58,
   "id": "7e2cf3c4",
   "metadata": {},
   "outputs": [
    {
     "name": "stdout",
     "output_type": "stream",
     "text": [
      "Model: mscflp\n",
      " - number of variables: 12\n",
      "   - binary=3, integer=0, continuous=9\n",
      " - number of constraints: 15\n",
      "   - linear=15\n",
      " - parameters: defaults\n",
      " - objective: none\n",
      " - problem type is: MILP\n"
     ]
    }
   ],
   "source": [
    "model.print_information()"
   ]
  },
  {
   "cell_type": "code",
   "execution_count": 59,
   "id": "d6fa8a1f",
   "metadata": {},
   "outputs": [],
   "source": [
    "first = sum(y[j]*fixedCost[j] for j in range(numResources))\n",
    "second = sum(sum(x[i,j]*cost[i][j] for j in range(numResources)) for i in range(numUsers))\n",
    "model.minimize(first+second)"
   ]
  },
  {
   "cell_type": "code",
   "execution_count": 60,
   "id": "b6a19991",
   "metadata": {},
   "outputs": [
    {
     "data": {
      "text/plain": [
       "docplex.mp.solution.SolveSolution(obj=36,values={x_0_0:0.5,x_0_2:0.5,x_1.."
      ]
     },
     "execution_count": 60,
     "metadata": {},
     "output_type": "execute_result"
    }
   ],
   "source": [
    "model.solve()"
   ]
  },
  {
   "cell_type": "code",
   "execution_count": 61,
   "id": "08a21fc9",
   "metadata": {},
   "outputs": [
    {
     "name": "stdout",
     "output_type": "stream",
     "text": [
      "objective: 36.000\n",
      "status: OPTIMAL_SOLUTION(2)\n",
      "  x_0_0=0.500\n",
      "  x_0_2=0.500\n",
      "  x_1_0=1.000\n",
      "  x_2_2=1.000\n",
      "  y_0=1\n",
      "  y_2=1\n"
     ]
    }
   ],
   "source": [
    "model.print_solution()"
   ]
  },
  {
   "cell_type": "code",
   "execution_count": 64,
   "id": "daa885eb",
   "metadata": {},
   "outputs": [],
   "source": [
    "from scipy import optimize as opt\n",
    "import numpy as np"
   ]
  },
  {
   "cell_type": "code",
   "execution_count": null,
   "id": "57f02888",
   "metadata": {},
   "outputs": [],
   "source": [
    "# min f(x1, x2) = 3x1 + 4x2\n",
    "# x1 + 2x2 <= 14\n",
    "# x2 <= 3x1\n",
    "# x1 - x2 <= 2"
   ]
  },
  {
   "cell_type": "code",
   "execution_count": 66,
   "id": "c0b61ccd",
   "metadata": {},
   "outputs": [],
   "source": [
    "C = np.array([3, 4])\n",
    "\n",
    "A_ub = np.array([[1, 2],\n",
    "                [-3, 1],\n",
    "                [1, -1]])\n",
    "b_ub = np.array([14, 0, 2])"
   ]
  },
  {
   "cell_type": "code",
   "execution_count": 68,
   "id": "d2d0d79d",
   "metadata": {},
   "outputs": [
    {
     "data": {
      "text/plain": [
       "       message: Optimization terminated successfully. (HiGHS Status 7: Optimal)\n",
       "       success: True\n",
       "        status: 0\n",
       "           fun: 0.0\n",
       "             x: [ 0.000e+00  0.000e+00]\n",
       "           nit: 0\n",
       "         lower:  residual: [ 0.000e+00  0.000e+00]\n",
       "                marginals: [ 3.000e+00  4.000e+00]\n",
       "         upper:  residual: [       inf        inf]\n",
       "                marginals: [ 0.000e+00  0.000e+00]\n",
       "         eqlin:  residual: []\n",
       "                marginals: []\n",
       "       ineqlin:  residual: [ 1.400e+01  0.000e+00  2.000e+00]\n",
       "                marginals: [-0.000e+00 -0.000e+00 -0.000e+00]"
      ]
     },
     "execution_count": 68,
     "metadata": {},
     "output_type": "execute_result"
    }
   ],
   "source": [
    "opt.linprog(c=C, A_ub=A_ub, b_ub=b_ub)"
   ]
  },
  {
   "cell_type": "code",
   "execution_count": null,
   "id": "d01fc649",
   "metadata": {},
   "outputs": [],
   "source": []
  },
  {
   "cell_type": "code",
   "execution_count": null,
   "id": "49a0de86",
   "metadata": {},
   "outputs": [],
   "source": []
  },
  {
   "cell_type": "code",
   "execution_count": null,
   "id": "7f27f032",
   "metadata": {},
   "outputs": [],
   "source": []
  }
 ],
 "metadata": {
  "kernelspec": {
   "display_name": "Python 3 (ipykernel)",
   "language": "python",
   "name": "python3"
  },
  "language_info": {
   "codemirror_mode": {
    "name": "ipython",
    "version": 3
   },
   "file_extension": ".py",
   "mimetype": "text/x-python",
   "name": "python",
   "nbconvert_exporter": "python",
   "pygments_lexer": "ipython3",
   "version": "3.10.1"
  }
 },
 "nbformat": 4,
 "nbformat_minor": 5
}
